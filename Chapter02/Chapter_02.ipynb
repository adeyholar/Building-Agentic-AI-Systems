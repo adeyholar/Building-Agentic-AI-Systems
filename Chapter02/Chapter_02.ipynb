{
 "cells": [
  {
   "cell_type": "markdown",
   "metadata": {},
   "source": [
    "<a target=\"_blank\" href=\"https://colab.research.google.com/github/PacktPublishing/Building-Agentic-AI-Systems/blob/main/Chapter_02.ipynb\">\n",
    "  <img src=\"https://colab.research.google.com/assets/colab-badge.svg\" alt=\"Open In Colab\"/>\n",
    "</a>\n",
    "\n",
    "# Chapter 2: Principles of Agentic Systems\n",
    "---\n",
    "\n",
    "### Implementing Algorithm 1: Travel Booking Assistant Algorithm with Agency and Autonomy\n",
    "\n",
    "This is a simple Python implementation of Algorithm 1 in Chapter 2."
   ]
  },
  {
   "cell_type": "code",
   "execution_count": 5,
   "metadata": {},
   "outputs": [
    {
     "name": "stdout",
     "output_type": "stream",
     "text": [
      "Agent TripPlanner is booking travel from SAN to SEA\n",
      "Goal set: Book flight from SAN to SEA\n",
      "Knowledge updated with 3 flight options\n",
      "Decision made: Selected flight JetBlue\n",
      "Booking confirmed: BOOK-JetBlue-TRIPPLANNER\n",
      "\n",
      "----------- Final Agent State: -----------\n",
      "Name: TripPlanner\n",
      "Goals: ['Book flight from SAN to SEA']\n",
      "Knowledge Base: {'flight_options': [{'airline': 'JetBlue', 'departure_airport': 'SAN', 'destination_airport': 'SEA', 'flight_number': 'DL3309', 'departure_time': datetime.datetime(2025, 7, 4, 17, 19, 47), 'arrival_time': datetime.datetime(2025, 7, 17, 9, 1, 57), 'price': 124.21, 'score': 8.050881571532083}, {'airline': 'United', 'departure_airport': 'SAN', 'destination_airport': 'SEA', 'flight_number': 'UA4603', 'departure_time': datetime.datetime(2025, 6, 23, 4, 6, 27), 'arrival_time': datetime.datetime(2025, 7, 15, 16, 34, 24), 'price': 129.89, 'score': 7.698822080221727}, {'airline': 'United', 'departure_airport': 'SAN', 'destination_airport': 'SEA', 'flight_number': 'UA706', 'departure_time': datetime.datetime(2025, 7, 8, 0, 13, 19), 'arrival_time': datetime.datetime(2025, 7, 14, 0, 47, 20), 'price': 138.41, 'score': 7.224911494834188}], 'booking_confirmation': 'BOOK-JetBlue-TRIPPLANNER'}\n",
      "Booking Confirmation: BOOK-JetBlue-TRIPPLANNER\n"
     ]
    }
   ],
   "source": [
    "from travel_provider import travel_provider\n",
    "from typing import List, Dict, Any\n",
    "import json\n",
    "\n",
    "class TravelAgent:\n",
    "    def __init__(self, name: str):\n",
    "        self.name = name\n",
    "        self.goals: List[str] = []\n",
    "        self.knowledge_base: Dict[str, Any] = {}\n",
    "\n",
    "    def set_goal(self, goal: str):\n",
    "        \"\"\"Agency: Defining objectives\"\"\"\n",
    "        self.goals.append(goal)\n",
    "        print(f\"Goal set: {goal}\")\n",
    "\n",
    "    def update_knowledge(self, departure: str, destination: str):\n",
    "        \"\"\"Agency: Acquiring information from an API, and scoring\"\"\"\n",
    "        response = travel_provider.flight_lookup(departure, destination)\n",
    "        if response['status_code'] == 200:\n",
    "            if 'flight_options' in response and isinstance(response['flight_options'], list):\n",
    "                flight_options: List[Dict[str, Any]] = response['flight_options']\n",
    "                scored_options = [\n",
    "                    {**flight, 'score': 1000 / float(flight['price'])} \n",
    "                    for flight in flight_options\n",
    "                ]\n",
    "                self.knowledge_base['flight_options'] = scored_options\n",
    "                print(f\"Knowledge updated with {len(scored_options)} flight options\")\n",
    "            else:\n",
    "                print(\"Invalid flight_options data in response\")\n",
    "        else:\n",
    "            print(\"Failed to fetch flight information\")\n",
    "\n",
    "    def make_decision(self) -> Dict[str, Any]:\n",
    "        \"\"\"Autonomy: Independent decision-making\"\"\"\n",
    "        if 'flight_options' not in self.knowledge_base:\n",
    "            raise ValueError(\"No flight options available for decision-making\")\n",
    "        best_option = max(self.knowledge_base['flight_options'], key=lambda x: x['score'])\n",
    "        print(f\"Decision made: Selected flight {best_option['airline']}\")\n",
    "        return best_option\n",
    "\n",
    "    def book_travel(self, departure: str, destination: str):\n",
    "        \"\"\"Agency: Execute action on behalf of user\"\"\"\n",
    "        print(f\"Agent {self.name} is booking travel from {departure} to {destination}\")\n",
    "        \n",
    "        self.set_goal(f\"Book flight from {departure} to {destination}\")\n",
    "        self.update_knowledge(departure, destination)\n",
    "        \n",
    "        try:\n",
    "            best_flight = self.make_decision()\n",
    "            booking_confirmation = f\"BOOK-{best_flight['airline']}-{self.name.upper()}\"\n",
    "            self.knowledge_base['booking_confirmation'] = booking_confirmation\n",
    "            print(f\"Booking confirmed: {booking_confirmation}\")\n",
    "        except Exception as e:\n",
    "            print(f\"Booking failed: {str(e)}\")\n",
    "\n",
    "        return self\n",
    "\n",
    "# Usage example\n",
    "if __name__ == \"__main__\":\n",
    "    agent = TravelAgent(\"TripPlanner\")\n",
    "    agent.book_travel(\"SAN\", \"SEA\")\n",
    "    print(\"\\n----------- Final Agent State: -----------\")\n",
    "    print(f\"Name: {agent.name}\")\n",
    "    print(f\"Goals: {agent.goals}\")\n",
    "    print(f\"Knowledge Base: {agent.knowledge_base}\")\n",
    "    if 'booking_confirmation' in agent.knowledge_base:\n",
    "        print(f\"Booking Confirmation: {agent.knowledge_base['booking_confirmation']}\")"
   ]
  }
 ],
 "metadata": {
  "kernelspec": {
   "display_name": "bagentaisys-venv",
   "language": "python",
   "name": "python3"
  },
  "language_info": {
   "codemirror_mode": {
    "name": "ipython",
    "version": 3
   },
   "file_extension": ".py",
   "mimetype": "text/x-python",
   "name": "python",
   "nbconvert_exporter": "python",
   "pygments_lexer": "ipython3",
   "version": "3.13.5"
  }
 },
 "nbformat": 4,
 "nbformat_minor": 2
}
